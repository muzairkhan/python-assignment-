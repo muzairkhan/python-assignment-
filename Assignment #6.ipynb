{
 "cells": [
  {
   "cell_type": "markdown",
   "metadata": {},
   "source": [
    "# Assignment no 6"
   ]
  },
  {
   "cell_type": "code",
   "execution_count": null,
   "metadata": {},
   "outputs": [],
   "source": []
  },
  {
   "cell_type": "markdown",
   "metadata": {},
   "source": [
    "# Question no 1"
   ]
  },
  {
   "cell_type": "markdown",
   "metadata": {},
   "source": [
    "Object-oriented programming (OOP) refers to a type of computer programming (software design) in which programmers define the data type of a data structure, and also the types of operations (functions) that can be applied to the data structure.\n",
    "In this way, the data structure becomes an object that includes both data and functions. In addition, programmers can create relationships between one object and another. For example, objects can inherit characteristics from other objects\n"
   ]
  },
  {
   "cell_type": "code",
   "execution_count": null,
   "metadata": {},
   "outputs": [],
   "source": []
  },
  {
   "cell_type": "markdown",
   "metadata": {},
   "source": [
    "# Question no 2"
   ]
  },
  {
   "cell_type": "markdown",
   "metadata": {},
   "source": [
    "Advantages of Object Oriented Programming\n",
    "One of the principal advantages of object-oriented programming techniques over procedural programming techniques is that they enable programmers to create modules that do not need to be changed when a new type of object is added. A programmer can simply create a new object that inherits many of its features from existing objects. This makes object-oriented programs easier to modify.\n",
    "\n"
   ]
  },
  {
   "cell_type": "code",
   "execution_count": null,
   "metadata": {},
   "outputs": [],
   "source": []
  },
  {
   "cell_type": "markdown",
   "metadata": {},
   "source": [
    "# Question no 3"
   ]
  },
  {
   "cell_type": "markdown",
   "metadata": {},
   "source": [
    "A function is a piece of code that is called by name. It can be passed data to operate on (i.e. the parameters) and can optionally return data (the return value). All data that is passed to a function is explicitly passed. A method is a piece of code that is called by a name that is associated with an object."
   ]
  },
  {
   "cell_type": "code",
   "execution_count": null,
   "metadata": {},
   "outputs": [],
   "source": []
  },
  {
   "cell_type": "markdown",
   "metadata": {},
   "source": [
    "# Question no 4"
   ]
  },
  {
   "cell_type": "markdown",
   "metadata": {},
   "source": [
    "Classes:\n",
    "Classes provide a means of bundling data and functionality together. Creating a new class creates a new type of object, allowing new instances of that type to be made. Each class instance can have attributes attached to it for maintaining its state. Class instances can also have methods (defined by its class) for modifying its state.\n",
    "\n",
    "OBJECT:\n",
    "A compound data type that is often used to model a thing or concept in the real world. It bundles together the data and the operations that are relevant for that kind of data. Instance and object are used interchangeably.\n",
    "\n",
    "ATTRIBUTES:\n",
    "One of the named data items that makes up an instance\n",
    "\n",
    "BEHAVIOUR:\n",
    "Now that we know what data is, the last undefined term is behaviors. Behaviors are actions that can occur on an object. The behaviors that can be performed on a specific class of object are called methods. At the programming level, methods are like functions in structured programming, but they magically have access to all the data associated with this object. Like functions, methods can also accept parameters and return values.\n"
   ]
  },
  {
   "cell_type": "code",
   "execution_count": null,
   "metadata": {},
   "outputs": [],
   "source": []
  },
  {
   "cell_type": "markdown",
   "metadata": {},
   "source": [
    "# Question no 5"
   ]
  },
  {
   "cell_type": "code",
   "execution_count": 1,
   "metadata": {},
   "outputs": [
    {
     "name": "stdout",
     "output_type": "stream",
     "text": [
      "Car Properties\n",
      "Name         : Civic\n",
      "Model        : 2019\n",
      "Color        : Black\n",
      "Company      : Honda\n",
      "Transmission : Auto \n",
      "\n",
      "Car Properties\n",
      "Name         : Coure\n",
      "Model        : 2009\n",
      "Color        : Brown\n",
      "Company      : Diahatsu\n",
      "Transmission : Manual \n",
      "\n",
      "Car Properties\n",
      "Name         : Corolla\n",
      "Model        : 2016\n",
      "Color        : Black\n",
      "Company      : Toyota\n",
      "Transmission : Auto \n",
      "\n",
      "Car Properties\n",
      "Name         : Mehran\n",
      "Model        : 2017\n",
      "Color        : Grey\n",
      "Company      : Suzuki\n",
      "Transmission : Manual \n",
      "\n",
      "Car Properties\n",
      "Name         : City\n",
      "Model        : 2018\n",
      "Color        : White\n",
      "Company      : Honda\n",
      "Transmission : Auto \n",
      "\n",
      "Before Changing :  Civic\n",
      "After Changing :  Pajero\n"
     ]
    }
   ],
   "source": [
    "class Car():\n",
    "    \n",
    "    def __init__(self, name, model, color, company, transmission):\n",
    "        self.name = name\n",
    "        self.model = model\n",
    "        self.color = color\n",
    "        self.company = company\n",
    "        self.transmission = transmission\n",
    "        \n",
    "    \n",
    "    def show_properties(self):\n",
    "        print(\"Car Properties\")\n",
    "        print(f\"Name         : {self.name}\")\n",
    "        print(f\"Model        : {self.model}\")\n",
    "        print(f\"Color        : {self.color}\")\n",
    "        print(f\"Company      : {self.company}\")\n",
    "        print(f\"Transmission : {self.transmission} \\n\")\n",
    "        \n",
    "    \n",
    "\n",
    "    def update_name(self, newname):\n",
    "        self.name = newname\n",
    "    \n",
    "    \n",
    "    def update_color(self, newcolor):\n",
    "        self.color = newcolor\n",
    "\n",
    "\n",
    "        \n",
    "\n",
    "car1 = Car(\"Civic\", 2019, \"Black\", \"Honda\", \"Auto\")\n",
    "car2 = Car(\"Coure\", 2009, \"Brown\", \"Diahatsu\", \"Manual\")\n",
    "car3 = Car(\"Corolla\", 2016, \"Black\", \"Toyota\", \"Auto\")\n",
    "car4 = Car(\"Mehran\", 2017, \"Grey\", \"Suzuki\", \"Manual\")\n",
    "car5 = Car(\"City\", 2018, \"White\", \"Honda\", \"Auto\")\n",
    "\n",
    "\n",
    "car1.show_properties()\n",
    "car2.show_properties()\n",
    "car3.show_properties()\n",
    "car4.show_properties()\n",
    "car5.show_properties()\n",
    "        \n",
    "\n",
    " \n",
    "print(\"Before Changing : \",car1.name)\n",
    "car1.update_name(\"Pajero\")\n",
    "print(\"After Changing : \",car1.name)"
   ]
  },
  {
   "cell_type": "code",
   "execution_count": null,
   "metadata": {},
   "outputs": [],
   "source": []
  }
 ],
 "metadata": {
  "kernelspec": {
   "display_name": "Python 3",
   "language": "python",
   "name": "python3"
  },
  "language_info": {
   "codemirror_mode": {
    "name": "ipython",
    "version": 3
   },
   "file_extension": ".py",
   "mimetype": "text/x-python",
   "name": "python",
   "nbconvert_exporter": "python",
   "pygments_lexer": "ipython3",
   "version": "3.7.4"
  }
 },
 "nbformat": 4,
 "nbformat_minor": 2
}

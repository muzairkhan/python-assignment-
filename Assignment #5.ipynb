{
 "cells": [
  {
   "cell_type": "code",
   "execution_count": 2,
   "metadata": {},
   "outputs": [
    {
     "name": "stdout",
     "output_type": "stream",
     "text": [
      "Input a number to compute the factiorial : 4\n",
      "24\n"
     ]
    }
   ],
   "source": [
    "\"\"\"Question no 1\"\"\"\n",
    "\n",
    "def factorial(n):\n",
    "    if n == 0:\n",
    "        return 1\n",
    "    else:\n",
    "        return n * factorial(n-1)\n",
    "n=int(input(\"Input a number to compute the factiorial : \"))\n",
    "print(factorial(n))\n"
   ]
  },
  {
   "cell_type": "code",
   "execution_count": 3,
   "metadata": {},
   "outputs": [
    {
     "name": "stdout",
     "output_type": "stream",
     "text": [
      "Enter string:HeLLo WorlD\n",
      "The number of lowercase characters is:\n",
      "5\n",
      "The number of uppercase characters is:\n",
      "5\n"
     ]
    }
   ],
   "source": [
    "\"\"\"Question no 2\"\"\"\n",
    "string=input(\"Enter string:\")\n",
    "count1=0\n",
    "count2=0\n",
    "for i in string:\n",
    "      if(i.islower()):\n",
    "            count1=count1+1\n",
    "      elif(i.isupper()):\n",
    "            count2=count2+1\n",
    "print(\"The number of lowercase characters is:\")\n",
    "print(count1)\n",
    "print(\"The number of uppercase characters is:\")\n",
    "print(count2)\n"
   ]
  },
  {
   "cell_type": "code",
   "execution_count": 4,
   "metadata": {},
   "outputs": [
    {
     "name": "stdout",
     "output_type": "stream",
     "text": [
      "Enter number of elements:6\n",
      "Enter element:22\n",
      "Enter element:34\n",
      "Enter element:53\n",
      "Enter element:21\n",
      "Enter element:79\n",
      "Enter element:80\n",
      "The even list [22, 34, 80]\n",
      "The odd list [53, 21, 79]\n"
     ]
    }
   ],
   "source": [
    "\"\"\"Question no 3\"\"\"\n",
    "a=[]\n",
    "n=int(input(\"Enter number of elements:\"))\n",
    "for i in range(1,n+1):\n",
    "    b=int(input(\"Enter element:\"))\n",
    "    a.append(b)\n",
    "even=[]\n",
    "odd=[]\n",
    "for j in a:\n",
    "    if(j%2==0):\n",
    "        even.append(j)\n",
    "    else:\n",
    "        odd.append(j)\n",
    "print(\"The even list\",even)\n",
    "print(\"The odd list\",odd)\n"
   ]
  },
  {
   "cell_type": "code",
   "execution_count": 28,
   "metadata": {},
   "outputs": [
    {
     "name": "stdout",
     "output_type": "stream",
     "text": [
      "Enter String: hello\n",
      "hello is not Palindrome\n"
     ]
    }
   ],
   "source": [
    "def reverse(st):\n",
    "    return st[::-1]\n",
    "def palindrome(st):\n",
    "    rev = reverse(st)\n",
    "    if(rev == st):\n",
    "        print(st,\"is Palindrome\")\n",
    "    else:\n",
    "        print(st,\"is not Palindrome\")\n",
    "my_string = input(\"Enter String: \")\n",
    "palindrome(my_string)\n"
   ]
  },
  {
   "cell_type": "code",
   "execution_count": 29,
   "metadata": {},
   "outputs": [
    {
     "name": "stdout",
     "output_type": "stream",
     "text": [
      "False\n"
     ]
    }
   ],
   "source": [
    "\"\"\"Question no 5\"\"\"\n",
    "def test_prime(n):\n",
    "    if (n==1):\n",
    "        return False\n",
    "    elif (n==2):\n",
    "        return True;\n",
    "    else:\n",
    "        for x in range(2,n):\n",
    "            if(n % x==0):\n",
    "                return False\n",
    "        return True             \n",
    "print(test_prime(9))\n"
   ]
  },
  {
   "cell_type": "code",
   "execution_count": 31,
   "metadata": {},
   "outputs": [
    {
     "name": "stdout",
     "output_type": "stream",
     "text": [
      "\t\tWelcome to Online Shopping\n",
      "\n",
      "\n",
      "What Do You Want To Buy: \n",
      "Item \t\tPrice\n",
      "1. Banana \t50 \n",
      "2. Apple \t60 \n",
      "3. Orange \t50 \n",
      "4. Pineapple \t240\n",
      "5. Kiwi \t320: 4\n",
      "Press e to exit: e\n",
      "\n",
      "\n",
      "\n",
      "Your Shopping List\n",
      "Item \t\t Price\n",
      "Pineapple \t 240\n",
      "Total Price is 240\n"
     ]
    }
   ],
   "source": [
    "\"\"\"Question no 6\"\"\"\n",
    "def shopping_list(price,*shoppinglist):\n",
    "    print(\"Your Shopping List\")\n",
    "    print(\"Item \\t\\t Price\")\n",
    "    for i in shoppinglist:\n",
    "        for eachkey,eachvalue in i.items():\n",
    "            for eachval,eachval1 in eachvalue.items():\n",
    "                if(eachval==\"Pineapple\"):\n",
    "                    print(eachval,\"\\t\",eachval1)\n",
    "                else:\n",
    "                    print(eachval,\"\\t\\t\",eachval1)\n",
    "    print(\"Total Price is\",price)\n",
    "\n",
    "exit = 'cont'\n",
    "shoppinglist = {}\n",
    "price = 0\n",
    "print(\"\\t\\tWelcome to Online Shopping\\n\\n\")\n",
    "print(\"What Do You Want To Buy: \")\n",
    "while(exit != 'e'):\n",
    "    print(\"Item \\t\\tPrice\")\n",
    "    print(\"1. Banana \\t50 \\n2. Apple \\t60 \\n3. Orange \\t50 \\n4. Pineapple \\t240\")\n",
    "    option = int(input(\"5. Kiwi \\t320: \"))\n",
    "    if(option == 1):\n",
    "        shoppinglist[1] = {\"Banana\":50}\n",
    "        price += 50\n",
    "    elif(option == 2):\n",
    "        shoppinglist[2] = {\"Apple\":60}\n",
    "        price += 60\n",
    "    elif(option == 3):\n",
    "        shoppinglist[3] = {\"Orange\":50}\n",
    "        price += 50\n",
    "    elif(option == 4):\n",
    "        shoppinglist[4] = {\"Pineapple\":240}\n",
    "        price += 240\n",
    "    elif(option == 5):\n",
    "        shoppinglist[5] = {\"Kiwi\":320}\n",
    "        price += 320\n",
    "    else:\n",
    "        print(\"Invalid Option\")\n",
    "    exit = (input(\"Press e to exit: \"))\n",
    "    print(\"\\n\\n\")\n",
    "shopping_list(price,shoppinglist)"
   ]
  }
 ],
 "metadata": {
  "kernelspec": {
   "display_name": "Python 3",
   "language": "python",
   "name": "python3"
  },
  "language_info": {
   "codemirror_mode": {
    "name": "ipython",
    "version": 3
   },
   "file_extension": ".py",
   "mimetype": "text/x-python",
   "name": "python",
   "nbconvert_exporter": "python",
   "pygments_lexer": "ipython3",
   "version": "3.7.4"
  }
 },
 "nbformat": 4,
 "nbformat_minor": 2
}
